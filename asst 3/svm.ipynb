{
 "cells": [
  {
   "cell_type": "code",
   "execution_count": 2,
   "metadata": {},
   "outputs": [
    {
     "name": "stdout",
     "output_type": "stream",
     "text": [
      "(500, 2)\n",
      "(500, 1)\n"
     ]
    }
   ],
   "source": [
    "import cvxpy as cp\n",
    "import numpy as np\n",
    "import csv\n",
    "\n",
    "def read_data(filename):\n",
    "    X=[]\n",
    "    with open(filename) as csv_file:\n",
    "        csv_reader = csv.reader(csv_file, delimiter=',')\n",
    "        line_count = 0\n",
    "        for row in csv_reader:\n",
    "            X.append(np.array(row).astype('float64'))\n",
    "    X=np.array(X)\n",
    "    return X\n",
    "\n",
    "X=read_data('Xsvm.csv')\n",
    "y=read_data('ysvm.csv')\n",
    "print(X.shape)\n",
    "print(y.shape)"
   ]
  },
  {
   "cell_type": "code",
   "execution_count": 3,
   "metadata": {},
   "outputs": [],
   "source": [
    "# initialisations for convex optimization\n",
    "alpha = cp.Variable(len(y))\n",
    "term2 = cp.matmul(X.T,cp.matmul(cp.diag(alpha),y))\n",
    "term2 = cp.norm(term2)**2"
   ]
  },
  {
   "cell_type": "code",
   "execution_count": 4,
   "metadata": {},
   "outputs": [],
   "source": [
    "term1 = cp.sum(alpha)\n",
    "full = term1 - 0.5*term2"
   ]
  },
  {
   "cell_type": "code",
   "execution_count": 5,
   "metadata": {},
   "outputs": [
    {
     "name": "stdout",
     "output_type": "stream",
     "text": [
      "----------------------------------------------------------------------------\n",
      "\tSCS v2.0.2 - Splitting Conic Solver\n",
      "\t(c) Brendan O'Donoghue, Stanford University, 2012-2017\n",
      "----------------------------------------------------------------------------\n",
      "Lin-sys: sparse-indirect, nnz in A = 2019, CG tol ~ 1/iter^(2.00)\n",
      "eps = 1.00e-05, alpha = 1.50, max_iters = 5000, normalize = 1, scale = 1.00\n",
      "acceleration_lookback = 20, rho_x = 1.00e-03\n",
      "Variables n = 508, constraints m = 517\n",
      "Cones:\tprimal zero / dual free vars: 8\n",
      "\tlinear vars: 500\n",
      "\tsoc vars: 3, soc blks: 1\n",
      "\tsd vars: 6, sd blks: 1\n",
      "Setup time: 1.10e-03s\n",
      "----------------------------------------------------------------------------\n",
      " Iter | pri res | dua res | rel gap | pri obj | dua obj | kap/tau | time (s)\n",
      "----------------------------------------------------------------------------\n",
      "     0| 9.05e+20  1.11e+20  1.00e+00 -2.50e+21 -0.00e+00  1.88e+21  1.86e-02 \n",
      "   100| 1.61e-01  9.61e-02  1.18e-02 -5.53e+01 -5.66e+01  4.98e-15  3.81e-02 \n",
      "   200| 4.47e-02  2.95e-02  1.57e-03 -5.38e+01 -5.36e+01  1.13e-02  5.64e-02 \n",
      "   300| 3.59e+00  9.80e-01  6.58e-02 -3.99e+01 -3.49e+01  1.50e-14  7.49e-02 \n",
      "   400| 5.76e-01  1.05e-01  1.59e-03 -6.29e+01 -6.27e+01  2.97e-02  9.34e-02 \n",
      "   500| 1.95e-01  1.48e-01  2.29e-03 -5.80e+01 -5.83e+01  5.21e-15  1.37e-01 \n",
      "   600| 2.45e-01  7.35e-02  4.13e-03 -6.02e+01 -5.97e+01  1.13e-15  1.61e-01 \n",
      "   700| 1.23e+00  2.38e-01  3.78e-02 -6.62e+01 -6.14e+01  6.90e-15  1.85e-01 \n",
      "   800| 1.51e-01  3.21e-02  1.91e-03 -6.26e+01 -6.24e+01  5.05e-16  2.16e-01 \n",
      "   900| 5.85e-02  2.94e-02  1.55e-04 -5.78e+01 -5.78e+01  4.07e-06  2.39e-01 \n",
      "  1000| 3.11e-01  4.38e-02  5.35e-03 -5.86e+01 -5.79e+01  7.95e-15  2.58e-01 \n",
      "  1100| 5.56e-01  1.54e-01  1.09e-03 -6.56e+01 -6.55e+01  1.26e-15  3.18e-01 \n",
      "  1200| 2.82e-02  1.35e-02  4.17e-04 -6.51e+01 -6.50e+01  1.79e-16  3.42e-01 \n",
      "  1300| 2.31e-01  8.07e-02  1.18e-02 -5.97e+01 -6.12e+01  6.85e-15  3.61e-01 \n",
      "  1400| 1.11e-02  4.34e-03  2.54e-05 -6.97e+01 -6.97e+01  3.94e-15  3.80e-01 \n",
      "  1500| 4.96e-03  2.09e-03  6.55e-05 -6.94e+01 -6.94e+01  6.02e-15  3.98e-01 \n",
      "  1600| 1.03e-02  4.15e-03  7.24e-05 -6.82e+01 -6.83e+01  5.33e-04  4.18e-01 \n",
      "  1700| 1.92e-02  3.74e-03  1.86e-04 -6.99e+01 -6.99e+01  5.04e-15  4.51e-01 \n",
      "  1800| 1.32e-03  4.85e-04  1.71e-05 -6.92e+01 -6.92e+01  3.03e-15  4.71e-01 \n",
      "  1900| 4.01e-05  1.23e-05  6.66e-07 -6.91e+01 -6.91e+01  1.21e-15  4.89e-01 \n",
      "  2000| 2.59e-04  9.10e-05  2.10e-06 -6.85e+01 -6.85e+01  8.94e-15  5.07e-01 \n",
      "  2100| 4.50e-05  3.67e-05  9.77e-08 -6.94e+01 -6.94e+01  6.27e-15  5.25e-01 \n",
      "  2120| 4.58e-06  1.51e-06  2.61e-09 -6.94e+01 -6.94e+01  4.70e-15  5.29e-01 \n",
      "----------------------------------------------------------------------------\n",
      "Status: Solved\n",
      "Timing: Solve time: 5.29e-01s\n",
      "\tLin-sys: avg # CG iterations: 6.66, avg solve time: 1.32e-04s\n",
      "\tCones: avg projection time: 4.93e-06s\n",
      "\tAcceleration: avg step time: 8.86e-05s\n",
      "----------------------------------------------------------------------------\n",
      "Error metrics:\n",
      "dist(s, K) = 2.4208e-14, dist(y, K*) = 1.3442e-09, s'y/|s||y| = 3.1412e-10\n",
      "primal res: |Ax + s - b|_2 / (1 + |b|_2) = 4.5850e-06\n",
      "dual res:   |A'y + c|_2 / (1 + |c|_2) = 1.5136e-06\n",
      "rel gap:    |c'x + b'y| / (1 + |c'x| + |b'y|) = 2.6134e-09\n",
      "----------------------------------------------------------------------------\n",
      "c'x = -69.4369, -b'y = -69.4369\n",
      "============================================================================\n"
     ]
    },
    {
     "data": {
      "text/plain": [
       "69.4368549052371"
      ]
     },
     "execution_count": 5,
     "metadata": {},
     "output_type": "execute_result"
    }
   ],
   "source": [
    "constraint = cp.matmul(alpha.T,y)\n",
    "Constraint = [0<=alpha,constraint == 0]\n",
    "obj = cp.Maximize(full)\n",
    "prob = cp.Problem(obj, Constraint)\n",
    "prob.solve(verbose=True)"
   ]
  },
  {
   "cell_type": "code",
   "execution_count": 8,
   "metadata": {},
   "outputs": [],
   "source": [
    "Alpha=np.array(alpha.value).reshape(500,)"
   ]
  },
  {
   "cell_type": "code",
   "execution_count": 14,
   "metadata": {},
   "outputs": [],
   "source": [
    "w=np.dot(X.T,np.matmul(np.diag(Alpha),y))\n",
    "w=w.reshape(2,1)"
   ]
  },
  {
   "cell_type": "code",
   "execution_count": 15,
   "metadata": {},
   "outputs": [
    {
     "name": "stdout",
     "output_type": "stream",
     "text": [
      "(array([ 33, 281, 469]),)\n"
     ]
    }
   ],
   "source": [
    "Alpha[Alpha<1e-3]=0\n",
    "print(np.nonzero(Alpha))"
   ]
  },
  {
   "cell_type": "code",
   "execution_count": 24,
   "metadata": {},
   "outputs": [
    {
     "name": "stdout",
     "output_type": "stream",
     "text": [
      "[[0.10245298]]\n"
     ]
    }
   ],
   "source": [
    "w0=(1/y[469])-np.dot(w.T,X[469].reshape(2,1))\n",
    "print(w0)"
   ]
  },
  {
   "cell_type": "code",
   "execution_count": 29,
   "metadata": {},
   "outputs": [
    {
     "name": "stdout",
     "output_type": "stream",
     "text": [
      "The class is 1\n",
      "The class is 1\n",
      "The class is 1\n",
      "The class is 1\n"
     ]
    }
   ],
   "source": [
    "# prediction\n",
    "test=np.array([[2,0.5],[0.8,0.7],[1.58,1.33],[0.008, 0.001]])\n",
    "for elem in test:\n",
    "    if np.dot(w.T,elem)+w0>0:\n",
    "        print(\"The class is 1\")\n",
    "    else:\n",
    "        print(\"The class is -1\")"
   ]
  },
  {
   "cell_type": "code",
   "execution_count": null,
   "metadata": {},
   "outputs": [],
   "source": []
  }
 ],
 "metadata": {
  "kernelspec": {
   "display_name": "Python 2",
   "language": "python",
   "name": "python2"
  },
  "language_info": {
   "codemirror_mode": {
    "name": "ipython",
    "version": 3
   },
   "file_extension": ".py",
   "mimetype": "text/x-python",
   "name": "python",
   "nbconvert_exporter": "python",
   "pygments_lexer": "ipython3",
   "version": "3.5.2"
  }
 },
 "nbformat": 4,
 "nbformat_minor": 2
}
